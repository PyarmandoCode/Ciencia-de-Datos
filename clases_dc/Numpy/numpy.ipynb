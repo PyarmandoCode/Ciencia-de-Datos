{
 "cells": [
  {
   "cell_type": "code",
   "execution_count": 2,
   "id": "666c6eb2",
   "metadata": {},
   "outputs": [],
   "source": [
    "import pandas as pd"
   ]
  },
  {
   "cell_type": "code",
   "execution_count": 3,
   "id": "37a7b567",
   "metadata": {},
   "outputs": [],
   "source": [
    "import numpy as np"
   ]
  },
  {
   "cell_type": "code",
   "execution_count": 4,
   "id": "c8fcb01e",
   "metadata": {},
   "outputs": [
    {
     "data": {
      "text/plain": [
       "array([1, 2, 3])"
      ]
     },
     "execution_count": 4,
     "metadata": {},
     "output_type": "execute_result"
    }
   ],
   "source": [
    "#pip install numpy\n",
    "#array de una dimension\n",
    "array1 = np.array([1,2,3])\n",
    "array1"
   ]
  },
  {
   "cell_type": "code",
   "execution_count": 5,
   "id": "7b742c3a",
   "metadata": {},
   "outputs": [
    {
     "data": {
      "text/plain": [
       "array([[1, 2, 3],\n",
       "       [4, 5, 6]])"
      ]
     },
     "execution_count": 5,
     "metadata": {},
     "output_type": "execute_result"
    }
   ],
   "source": [
    "#array de dos dimensiones\n",
    "array2=np.array([[1,2,3],[4,5,6]])\n",
    "array2"
   ]
  },
  {
   "cell_type": "code",
   "execution_count": 6,
   "id": "d7643e5c",
   "metadata": {},
   "outputs": [
    {
     "data": {
      "text/plain": [
       "array([[[ 1,  2,  3],\n",
       "        [ 4,  5,  6]],\n",
       "\n",
       "       [[ 7,  8,  9],\n",
       "        [10, 11, 12]]])"
      ]
     },
     "execution_count": 6,
     "metadata": {},
     "output_type": "execute_result"
    }
   ],
   "source": [
    "#array de tres dimensiones\n",
    "array3=np.array([[[1,2,3],[4,5,6]],[[7,8,9],[10,11,12]]])\n",
    "array3"
   ]
  },
  {
   "cell_type": "code",
   "execution_count": 12,
   "id": "62da30e6",
   "metadata": {},
   "outputs": [
    {
     "data": {
      "text/plain": [
       "6"
      ]
     },
     "execution_count": 12,
     "metadata": {},
     "output_type": "execute_result"
    }
   ],
   "source": [
    "#acceder a los elementos del array\n",
    "array2\n",
    "array2[1,2]"
   ]
  },
  {
   "cell_type": "code",
   "execution_count": 15,
   "id": "b94d2d40",
   "metadata": {},
   "outputs": [
    {
     "data": {
      "text/plain": [
       "array([[ 1,  4,  9],\n",
       "       [16, 25, 36]])"
      ]
     },
     "execution_count": 15,
     "metadata": {},
     "output_type": "execute_result"
    }
   ],
   "source": [
    "#Operaciones con Arrays\n",
    "a = np.array([[1,2,3],[4,5,6]])\n",
    "b = np.array([[1,1,1],[2,2,2]])\n",
    "a+b\n",
    "a/b\n",
    "a**2"
   ]
  },
  {
   "cell_type": "code",
   "execution_count": 19,
   "id": "7dd3ee5a",
   "metadata": {},
   "outputs": [
    {
     "data": {
      "text/plain": [
       "36.2"
      ]
     },
     "execution_count": 19,
     "metadata": {},
     "output_type": "execute_result"
    }
   ],
   "source": [
    "#sumar elementos del Array\n",
    "arr = [20,2,.2,10,4]\n",
    "np.sum(arr ,dtype = np.uint8)\n",
    "np.sum(arr ,dtype = np.float32)"
   ]
  },
  {
   "cell_type": "code",
   "execution_count": 21,
   "id": "f2fb6513",
   "metadata": {},
   "outputs": [
    {
     "data": {
      "text/plain": [
       "array([1, 3, 5, 7, 9])"
      ]
     },
     "execution_count": 21,
     "metadata": {},
     "output_type": "execute_result"
    }
   ],
   "source": [
    "#Crea una secuencia de valores desde el inicio hasta el fin incluyendo un argumento para el salto\n",
    "array4 = np.arange(1,10,2)\n",
    "array4"
   ]
  },
  {
   "cell_type": "code",
   "execution_count": 22,
   "id": "644d3301",
   "metadata": {},
   "outputs": [
    {
     "data": {
      "text/plain": [
       "array([0., 0., 0., 0., 0.])"
      ]
     },
     "execution_count": 22,
     "metadata": {},
     "output_type": "execute_result"
    }
   ],
   "source": [
    "#esta funcion me permite definir un array de n elemetos con valores iniciales CERO\n",
    "array5 = np.zeros(5)\n",
    "array5"
   ]
  },
  {
   "cell_type": "code",
   "execution_count": 23,
   "id": "1a248e2d",
   "metadata": {},
   "outputs": [
    {
     "data": {
      "text/plain": [
       "array([[0., 0., 0., 0.],\n",
       "       [0., 0., 0., 0.],\n",
       "       [0., 0., 0., 0.],\n",
       "       [0., 0., 0., 0.],\n",
       "       [0., 0., 0., 0.]])"
      ]
     },
     "execution_count": 23,
     "metadata": {},
     "output_type": "execute_result"
    }
   ],
   "source": [
    "array6 = np.zeros((5,4))\n",
    "array6"
   ]
  },
  {
   "cell_type": "code",
   "execution_count": 24,
   "id": "757321eb",
   "metadata": {},
   "outputs": [
    {
     "data": {
      "text/plain": [
       "array([[0.22839369, 0.19188939, 0.29640475],\n",
       "       [0.83455802, 0.18491458, 0.64298561]])"
      ]
     },
     "execution_count": 24,
     "metadata": {},
     "output_type": "execute_result"
    }
   ],
   "source": [
    "array7 = np.random.rand(2,3)\n",
    "array7"
   ]
  },
  {
   "cell_type": "markdown",
   "id": "fa41e560",
   "metadata": {},
   "source": [
    "## Visualizacion de Resultados usando Graficos MATPLOTLIB"
   ]
  },
  {
   "cell_type": "code",
   "execution_count": 25,
   "id": "0d6363ae",
   "metadata": {},
   "outputs": [
    {
     "name": "stdout",
     "output_type": "stream",
     "text": [
      "Requirement already satisfied: matplotlib in d:\\ciencia_datos\\clases_dc\\lib\\site-packages (3.5.1)\n",
      "Requirement already satisfied: kiwisolver>=1.0.1 in d:\\ciencia_datos\\clases_dc\\lib\\site-packages (from matplotlib) (1.4.0)\n",
      "Requirement already satisfied: pyparsing>=2.2.1 in d:\\ciencia_datos\\clases_dc\\lib\\site-packages (from matplotlib) (3.0.7)\n",
      "Requirement already satisfied: numpy>=1.17 in d:\\ciencia_datos\\clases_dc\\lib\\site-packages (from matplotlib) (1.22.3)\n",
      "Requirement already satisfied: pillow>=6.2.0 in d:\\ciencia_datos\\clases_dc\\lib\\site-packages (from matplotlib) (9.0.1)\n",
      "Requirement already satisfied: fonttools>=4.22.0 in d:\\ciencia_datos\\clases_dc\\lib\\site-packages (from matplotlib) (4.30.0)\n",
      "Requirement already satisfied: python-dateutil>=2.7 in d:\\ciencia_datos\\clases_dc\\lib\\site-packages (from matplotlib) (2.8.2)\n",
      "Requirement already satisfied: cycler>=0.10 in d:\\ciencia_datos\\clases_dc\\lib\\site-packages (from matplotlib) (0.11.0)\n",
      "Requirement already satisfied: packaging>=20.0 in d:\\ciencia_datos\\clases_dc\\lib\\site-packages (from matplotlib) (21.3)\n",
      "Requirement already satisfied: six>=1.5 in d:\\ciencia_datos\\clases_dc\\lib\\site-packages (from python-dateutil>=2.7->matplotlib) (1.16.0)\n",
      "Note: you may need to restart the kernel to use updated packages.\n"
     ]
    },
    {
     "name": "stderr",
     "output_type": "stream",
     "text": [
      "WARNING: You are using pip version 21.1.3; however, version 22.0.4 is available.\n",
      "You should consider upgrading via the 'd:\\ciencia_datos\\clases_dc\\scripts\\python.exe -m pip install --upgrade pip' command.\n"
     ]
    }
   ],
   "source": [
    "pip install matplotlib"
   ]
  },
  {
   "cell_type": "code",
   "execution_count": 26,
   "id": "6f730a3c",
   "metadata": {},
   "outputs": [],
   "source": [
    "import matplotlib.pyplot as plt"
   ]
  },
  {
   "cell_type": "code",
   "execution_count": 27,
   "id": "1f8548ae",
   "metadata": {},
   "outputs": [
    {
     "data": {
      "image/png": "[encoded data removed]",
      "text/plain": [
       "<Figure size 432x288 with 1 Axes>"
      ]
     },
     "metadata": {
      "needs_background": "light"
     },
     "output_type": "display_data"
    }
   ],
   "source": [
    "# Crear la Figura\n",
    "fig,ax = plt.subplots()\n",
    "#Dibujar los puntos\n",
    "ax.scatter(x = [1,2,3], y =[3,2,1])\n",
    "#Guardar el Grafico\n",
    "plt.savefig('grafico-inicial.png')\n",
    "#Mostrar el Grafico\n",
    "plt.show()"
   ]
  },
  {
   "cell_type": "code",
   "execution_count": 28,
   "id": "813bd09b",
   "metadata": {},
   "outputs": [
    {
     "data": {
      "image/png": "[encoded data removed]",
      "text/plain": [
       "<Figure size 432x288 with 1 Axes>"
      ]
     },
     "metadata": {
      "needs_background": "light"
     },
     "output_type": "display_data"
    }
   ],
   "source": [
    "#Grafico de Lineas\n",
    "import matplotlib.pyplot as plt\n",
    "fig,ax=plt.subplots()\n",
    "ax.plot([1,2,3,4],[1,2,0,0.5])\n",
    "plt.show()"
   ]
  },
  {
   "cell_type": "code",
   "execution_count": 29,
   "id": "fd7853c5",
   "metadata": {},
   "outputs": [
    {
     "data": {
      "image/png": "[encoded data removed]",
      "text/plain": [
       "<Figure size 432x288 with 1 Axes>"
      ]
     },
     "metadata": {
      "needs_background": "light"
     },
     "output_type": "display_data"
    }
   ],
   "source": [
    "fig , ax = plt.subplots()\n",
    "#fill _between dibujar el area bajo un poligono con los vertices \n",
    "#dados por las cordenadas de la lista x y\n",
    "ax.fill_between([1,2,3,4],[1,2,0,0.5])\n",
    "plt.show()"
   ]
  },
  {
   "cell_type": "code",
   "execution_count": 34,
   "id": "2c1c43a8",
   "metadata": {},
   "outputs": [
    {
     "data": {
      "image/png": "[encoded data removed]",
      "text/plain": [
       "<Figure size 432x288 with 1 Axes>"
      ]
     },
     "metadata": {
      "needs_background": "light"
     },
     "output_type": "display_data"
    }
   ],
   "source": [
    "fig,ax=plt.subplots()\n",
    "ax.bar([1,2,3],[3,2,1])\n",
    "plt.title(\"Grafico de Barras\")\n",
    "plt.xlabel(\"Edades\")\n",
    "plt.ylabel(\"Empleados\")\n",
    "plt.show()"
   ]
  },
  {
   "cell_type": "code",
   "execution_count": 35,
   "id": "b40f7330",
   "metadata": {},
   "outputs": [
    {
     "data": {
      "image/png": "[encoded data removed]",
      "text/plain": [
       "<Figure size 432x288 with 1 Axes>"
      ]
     },
     "metadata": {
      "needs_background": "light"
     },
     "output_type": "display_data"
    }
   ],
   "source": [
    "fig,ax=plt.subplots()\n",
    "ax.barh([1,2,3],[3,2,1])\n",
    "plt.title(\"Grafico de Barras\")\n",
    "plt.xlabel(\"Edades\")\n",
    "plt.ylabel(\"Empleados\")\n",
    "plt.show()"
   ]
  },
  {
   "cell_type": "code",
   "execution_count": 36,
   "id": "977ab8fd",
   "metadata": {},
   "outputs": [
    {
     "data": {
      "image/png": "[encoded data removed]",
      "text/plain": [
       "<Figure size 432x288 with 1 Axes>"
      ]
     },
     "metadata": {
      "needs_background": "light"
     },
     "output_type": "display_data"
    }
   ],
   "source": [
    "fig,ax=plt.subplots()\n",
    "x = np.random.normal(5,1.5,size=1000)\n",
    "ax.hist(x,np.arange(0,11))\n",
    "plt.show()"
   ]
  },
  {
   "cell_type": "code",
   "execution_count": 39,
   "id": "0a389b2a",
   "metadata": {},
   "outputs": [
    {
     "data": {
      "image/png": "[encoded data removed]",
      "text/plain": [
       "<Figure size 432x288 with 1 Axes>"
      ]
     },
     "metadata": {},
     "output_type": "display_data"
    }
   ],
   "source": [
    "import matplotlib.pyplot as plt\n",
    "fig,ax=plt.subplots()\n",
    "ax.pie([5,4,3,2,1])\n",
    "plt.show()"
   ]
  },
  {
   "cell_type": "markdown",
   "id": "bad090cf",
   "metadata": {},
   "source": [
    "## Ejercicios con Graficos"
   ]
  },
  {
   "cell_type": "code",
   "execution_count": 56,
   "id": "4a54e150",
   "metadata": {},
   "outputs": [
    {
     "data": {
      "image/png": "[encoded data removed]",
      "text/plain": [
       "<Figure size 432x288 with 1 Axes>"
      ]
     },
     "metadata": {
      "needs_background": "light"
     },
     "output_type": "display_data"
    }
   ],
   "source": [
    "# Caso1  se desea crear un grafico que interprete las temperaturas que sucedieron entre la semana\n",
    "# Pasada en dos ciudades frecuentes en españa tomar los datos de un diccionario\n",
    "import matplotlib.pyplot as plt\n",
    "fig,ax = plt.subplots()\n",
    "dias =['L','M','M','J','V','S','D']\n",
    "temperaturas = {'Madrid':[28.5,30.5,31,30,28,27.5,30.5],'Barcelona':[24.5,25.5,26.5,25,26.5,24.5,25]}\n",
    "ax.plot(dias,temperaturas['Madrid'] ,label=\"Madrid\") \n",
    "ax.plot(dias,temperaturas['Barcelona'] ,label =\"Barcelona\")\n",
    "ax.legend(loc='upper right')\n",
    "ax.grid(axis = 'y',color='gray' ,linestyle='dashed')\n",
    "plt.title('Comparacion de Temperaturas En Ciudades de España')\n",
    "plt.xlabel('Dias')\n",
    "plt.ylabel('Temperaturas')\n",
    "plt.savefig(\"graficociudades.png\")\n",
    "plt.show()"
   ]
  },
  {
   "cell_type": "code",
   "execution_count": 70,
   "id": "a30a079d",
   "metadata": {},
   "outputs": [
    {
     "data": {
      "image/png": "[encoded data removed]",
      "text/plain": [
       "<Figure size 432x288 with 4 Axes>"
      ]
     },
     "metadata": {
      "needs_background": "light"
     },
     "output_type": "display_data"
    }
   ],
   "source": [
    "#Dibujar varios grafios endistintos ejes , organizadas como tablas \n",
    "import matplotlib.pyplot as plt\n",
    "fig, ax = plt.subplots(2, 2, sharey = True)\n",
    "dias =['L','M','M','J','V','S','D']\n",
    "temperaturas = {'Madrid':[28.5,30.5,31,30,28,27.5,30.5],\n",
    "                'Barcelona':[24.5,25.5,26.5,25,26.5,24.5,25],\n",
    "                'Sevilla':[14.5,15.5,16.5,15,16.5,14.5,15],\n",
    "                'Cadiz':[24.5,25.5,16.5,25,16.5,24.5,15],\n",
    "                }\n",
    "ax[0,0].plot(dias,temperaturas['Madrid'])\n",
    "ax[0,1].plot(dias,temperaturas['Barcelona'],color= 'tab:orange')\n",
    "ax[1,0].bar(dias,temperaturas['Sevilla'],color= 'tab:red')\n",
    "ax[1,1].bar(dias,temperaturas['Cadiz'],color= 'tab:orange')\n",
    "plt.show()"
   ]
  },
  {
   "cell_type": "code",
   "execution_count": 75,
   "id": "918ef230",
   "metadata": {},
   "outputs": [
    {
     "data": {
      "text/plain": [
       "<AxesSubplot:xlabel='name'>"
      ]
     },
     "execution_count": 75,
     "metadata": {},
     "output_type": "execute_result"
    },
    {
     "data": {
      "image/png": "[encoded data removed]",
      "text/plain": [
       "<Figure size 432x288 with 1 Axes>"
      ]
     },
     "metadata": {
      "needs_background": "light"
     },
     "output_type": "display_data"
    }
   ],
   "source": [
    "#Caso3 .- Crear un Grafico que interprete las calificaciones de estudiantes de una universidad\n",
    "#los valores deben provenir de un Dataframe\n",
    "\n",
    "import pandas as pd\n",
    "df = pd.DataFrame({\n",
    "    'name' :['john','mary','pedro','jeff','bill','lisa','jose'],\n",
    "    'score':[23,78,22,19,45,33,100],\n",
    "    'gender':['M','F','M','M','M','F','M'],\n",
    "    'state' :['california','dc','california','dc','california','texas','texas']\n",
    "})\n",
    "df.plot(kind='bar',x='name',y='score')\n"
   ]
  },
  {
   "cell_type": "code",
   "execution_count": null,
   "id": "f96824e7",
   "metadata": {},
   "outputs": [],
   "source": []
  }
 ],
 "metadata": {
  "kernelspec": {
   "display_name": "Python 3 (ipykernel)",
   "language": "python",
   "name": "python3"
  },
  "language_info": {
   "codemirror_mode": {
    "name": "ipython",
    "version": 3
   },
   "file_extension": ".py",
   "mimetype": "text/x-python",
   "name": "python",
   "nbconvert_exporter": "python",
   "pygments_lexer": "ipython3",
   "version": "3.9.6"
  }
 },
 "nbformat": 4,
 "nbformat_minor": 5
}
