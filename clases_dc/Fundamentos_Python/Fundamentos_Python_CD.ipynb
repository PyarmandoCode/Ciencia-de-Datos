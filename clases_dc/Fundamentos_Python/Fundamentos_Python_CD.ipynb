{
 "cells": [
  {
   "cell_type": "markdown",
   "id": "1396cd5d",
   "metadata": {},
   "source": [
    "## Uso de Variables y Tipo de datos concatenacion"
   ]
  },
  {
   "cell_type": "code",
   "execution_count": null,
   "id": "12608fab",
   "metadata": {},
   "outputs": [],
   "source": [
    "conversionadolar()"
   ]
  },
  {
   "cell_type": "code",
   "execution_count": null,
   "id": "7767ed8f",
   "metadata": {},
   "outputs": [],
   "source": []
  },
  {
   "cell_type": "code",
   "execution_count": 40,
   "id": "4dde5cd7",
   "metadata": {},
   "outputs": [
    {
     "name": "stdout",
     "output_type": "stream",
     "text": [
      "Ingrese el nombre del obrero:Armando\n",
      "Ingrese las horas Trabajadas8\n",
      "El Obrero Armando Su Jornal es 240 Dolares\n"
     ]
    }
   ],
   "source": [
    "# Variables y Tipo de datos SNAKE_CASE\n",
    "edad = 28\n",
    "nombre_cliente=\"Armando\"\n",
    "precio_producto=26.8\n",
    "estado_producto=True\n",
    "\n",
    "#type(edad) #int\n",
    "#type(nombre_cliente) #str\n",
    "#type(precio_producto) #float\n",
    "#type(estado_producto) #bool\n",
    "\n",
    "#Colecciones de datos\n",
    "\n",
    "precio_productos = [1200,\"28.87\",True,[200,600,700]]  #list\n",
    "paises_latio = {\"Chile\":\"Santiago\",\"Venezuela\":\"Caracas\",\"Paraguay\":\"Asuncion\"} # dic\n",
    "numeros_ip = (\"123.14.56.7\",\"127.0.0.1\",\"123.45.67.8\") #tuple #inmutables\n",
    "valores_productos = {123,456,156,134,126} # set\n",
    "\n",
    "#type(valores_productos)\n",
    "\n",
    "#Accediendo a los elementos de la lista\n",
    "#precio_productos[0]\n",
    "#reccoriendo e imprimiendo mi lista\n",
    "#for item in precio_productos:\n",
    "#    print(item)\n",
    "    \n",
    "precio_productos.append(\"Juan Perez\") #Añade un nuevo elementoal final de la lista\n",
    "precio_productos.insert(2,\"Miguel Ramos\") #Añade un nuevo valor a la lista en la posicion indicada\n",
    "\n",
    "#precio_productos[0]=7600\n",
    "#precio_productos.pop(4) #Elimina un elemento de la lista\n",
    "#precio_productos.remove(\"Santiago\") #Elimina por el nombre del item\n",
    "#precio_productos\n",
    "#precio_productos[-2]\n",
    "#precio_productos[2:4]\n",
    "\n",
    "\n",
    "#Operadores  logicos\n",
    "\n",
    "# !=  Diferente\n",
    "# == Igual\n",
    "# Not Negacion\n",
    "# And Or\n",
    "\n",
    "#Operadores Matematicos\n",
    "\n",
    "#Division Decimal  /\n",
    "#Division Enterera //\n",
    "#Residuo de la Division %\n",
    "\n",
    "precio = 23.6\n",
    "cantidad = 6\n",
    "\n",
    "total1 = precio / cantidad\n",
    "total2 = precio // cantidad\n",
    "total3 = precio % 6\n",
    "\n",
    "#Concatenacon\n",
    "\n",
    "mentor = \"Armando\" #str\n",
    "curso = \"Ciencia de datos\"\n",
    "horas = 12 #int\n",
    "\n",
    "#str()\n",
    "#float()\n",
    "#bool()\n",
    "#int()\n",
    "\n",
    "\n",
    "resul_1 = mentor + str(horas)  #cast convertir a diferente tipos\n",
    "resul_2 = mentor , horas  #cast convertir a diferente tipos\n",
    "resul_3 = \"El Mentor {}  del curso {} que cuenta con {} Horas\".format(mentor,curso,horas)\n",
    "resul_4 =f'El Mentor {mentor} del curso {curso} que cuenta con {horas} horas'\n",
    "\n",
    "#result_4\n",
    "\n",
    "#Funcion Print .-Imprimir resultados por consola\n",
    "#Funcion Input .-Ingresar Valores por consola\n",
    "\n",
    "#print(\"Mi Primera clase de DS\")\n",
    "\n",
    "#Entrada de datos\n",
    "pago_hora=30\n",
    "nom_obre = input(\"Ingrese el nombre del obrero:\")\n",
    "horas_tra = int(input(\"Ingrese las horas Trabajadas\"))\n",
    "#proceso \n",
    "pago_jornal=horas_tra*pago_hora\n",
    "#Visualizacion de resultados\n",
    "#print(f'El Obrero {nom_obre} Su Jornal es {pago_jornal} Dolares')\n",
    "\n"
   ]
  },
  {
   "cell_type": "markdown",
   "id": "3b359161",
   "metadata": {},
   "source": [
    "### Condicionales\n"
   ]
  },
  {
   "cell_type": "code",
   "execution_count": 41,
   "id": "8c449d12",
   "metadata": {},
   "outputs": [
    {
     "name": "stdout",
     "output_type": "stream",
     "text": [
      "Ingrese la edad de la persona:17\n",
      "Es Menor de edad\n"
     ]
    }
   ],
   "source": [
    "edad=int(input(\"Ingrese la edad de la persona:\"))\n",
    "if edad>=18:\n",
    "    print(\"Es Mayor de edad\") #Lado Verdadero\n",
    "else:\n",
    "    print(\"Es Menor de edad\") #Lado Falso"
   ]
  },
  {
   "cell_type": "code",
   "execution_count": 1,
   "id": "a7da2535",
   "metadata": {},
   "outputs": [
    {
     "name": "stdout",
     "output_type": "stream",
     "text": [
      "Ingrese el pais:NIGERIA\n",
      "Ingrese el color:VERDE\n",
      "AFRICA\n"
     ]
    }
   ],
   "source": [
    "pais = input(\"Ingrese el pais:\")\n",
    "bandera = input(\"Ingrese el color:\")\n",
    "if pais == \"paraguay\" or pais == \"colombia\":\n",
    "    print(\"SUDA\")\n",
    "elif pais == \"japon\":\n",
    "    print(\"ASIA\")\n",
    "elif pais.upper() == \"NIGERIA\" and bandera.upper()==\"VERDE\":\n",
    "    print(\"AFRICA\")\n",
    "elif pais.upper() == \"AUSTRALIA\":\n",
    "    print(\"OCEANIA\")\n",
    "else:\n",
    "    print(\"no existe el pais\")\n",
    "    "
   ]
  },
  {
   "cell_type": "markdown",
   "id": "d8d1891a",
   "metadata": {},
   "source": [
    "## BUCLES"
   ]
  },
  {
   "cell_type": "code",
   "execution_count": 7,
   "id": "a1db5b4d",
   "metadata": {},
   "outputs": [
    {
     "name": "stdout",
     "output_type": "stream",
     "text": [
      "1 PYTHON PARA DC\n",
      "3 PYTHON PARA DC\n",
      "5 PYTHON PARA DC\n",
      "7 PYTHON PARA DC\n",
      "9 PYTHON PARA DC\n"
     ]
    }
   ],
   "source": [
    "\"\"\"\n",
    "for _ in range(10):\n",
    "    print(\"PYTHON PARA DC\")\n",
    "print(\"Fin del Bucle\")  \n",
    "\"\"\"\n",
    "\n",
    "#for x in range(10):\n",
    "#    print(x,\"PYTHON PARA DC\")\n",
    "    \n",
    "#for x in range(2,8):\n",
    "#    print(x,\"PYTHON PARA DC\")   \n",
    "    \n",
    "#for x in range(1,10,2)\n",
    "#    print(x,\"PYTHON PARA DC\")   \n",
    "    "
   ]
  },
  {
   "cell_type": "code",
   "execution_count": 11,
   "id": "5ccc2fb3",
   "metadata": {},
   "outputs": [
    {
     "name": "stdout",
     "output_type": "stream",
     "text": [
      "1\n",
      "2\n",
      "3\n",
      "4\n",
      "5\n"
     ]
    }
   ],
   "source": [
    "#Break Interrumple el bucle\n",
    "num=0\n",
    "while num<10: #True\n",
    "    num = num +1 #contador \n",
    "    if num == 6:\n",
    "        break #True\n",
    "    else:\n",
    "        print(num)"
   ]
  },
  {
   "cell_type": "code",
   "execution_count": 13,
   "id": "21ab8a9b",
   "metadata": {},
   "outputs": [
    {
     "name": "stdout",
     "output_type": "stream",
     "text": [
      "Ingrese el Nombre del producto:XYZ\n",
      "Ingrese el precio del producto:20.9\n",
      "Ingrese la cantidad a comprar:4\n",
      "Deseas Seguir comprando :?(s/n)s\n",
      "Ingrese el Nombre del producto:MNO\n",
      "Ingrese el precio del producto:3\n",
      "Ingrese la cantidad a comprar:1\n",
      "Deseas Seguir comprando :?(s/n)S\n",
      "Ingrese el Nombre del producto:JTO\n",
      "Ingrese el precio del producto:23.7\n",
      "Ingrese la cantidad a comprar:7\n",
      "Deseas Seguir comprando :?(s/n)n\n",
      "Total a pagar 252.5\n"
     ]
    }
   ],
   "source": [
    "sumtotal=0\n",
    "while True:\n",
    "    producto = input(\"Ingrese el Nombre del producto:\")\n",
    "    precio=float(input(\"Ingrese el precio del producto:\"))\n",
    "    cantidad=int(input(\"Ingrese la cantidad a comprar:\"))\n",
    "    subtotal = precio * cantidad\n",
    "    sumtotal = sumtotal + subtotal\n",
    "    msj=input(\"Deseas Seguir comprando :?(s/n)\")\n",
    "    if msj.upper() == \"N\":\n",
    "        print(f'Total a pagar {sumtotal}')\n",
    "        break"
   ]
  },
  {
   "cell_type": "markdown",
   "id": "c301ed24",
   "metadata": {},
   "source": [
    "## Funciones"
   ]
  },
  {
   "cell_type": "code",
   "execution_count": 17,
   "id": "73a293ba",
   "metadata": {},
   "outputs": [],
   "source": [
    "def conversionadolar():\n",
    "    precio_dolar=float(input(\"Ingrese el precio del dolar\"))\n",
    "    cantidad_dolar=float(input(\"Ingrese la cantidad de dolares a convertir\"))\n",
    "    res=cantidad_dolar/precio_dolar\n",
    "    return res"
   ]
  },
  {
   "cell_type": "code",
   "execution_count": null,
   "id": "9a3f86bd",
   "metadata": {},
   "outputs": [],
   "source": []
  },
  {
   "cell_type": "code",
   "execution_count": 18,
   "id": "e8461e56",
   "metadata": {},
   "outputs": [
    {
     "name": "stdout",
     "output_type": "stream",
     "text": [
      "Ingrese el precio del dolar3.70\n",
      "Ingrese la cantidad de dolares a convertir200\n"
     ]
    },
    {
     "data": {
      "text/plain": [
       "54.05405405405405"
      ]
     },
     "execution_count": 18,
     "metadata": {},
     "output_type": "execute_result"
    }
   ],
   "source": [
    "conversionadolar()"
   ]
  },
  {
   "cell_type": "code",
   "execution_count": null,
   "id": "3ea81918",
   "metadata": {},
   "outputs": [],
   "source": []
  },
  {
   "cell_type": "code",
   "execution_count": null,
   "id": "d8a93154",
   "metadata": {},
   "outputs": [],
   "source": []
  },
  {
   "cell_type": "code",
   "execution_count": null,
   "id": "6d70a61e",
   "metadata": {},
   "outputs": [],
   "source": []
  },
  {
   "cell_type": "code",
   "execution_count": null,
   "id": "fcd269f7",
   "metadata": {},
   "outputs": [],
   "source": []
  },
  {
   "cell_type": "code",
   "execution_count": null,
   "id": "6f964897",
   "metadata": {},
   "outputs": [],
   "source": []
  },
  {
   "cell_type": "code",
   "execution_count": null,
   "id": "afc46922",
   "metadata": {},
   "outputs": [],
   "source": []
  },
  {
   "cell_type": "code",
   "execution_count": null,
   "id": "9a0b780e",
   "metadata": {},
   "outputs": [],
   "source": []
  },
  {
   "cell_type": "code",
   "execution_count": null,
   "id": "99ffc171",
   "metadata": {},
   "outputs": [],
   "source": []
  },
  {
   "cell_type": "code",
   "execution_count": null,
   "id": "70ac70e9",
   "metadata": {},
   "outputs": [],
   "source": []
  },
  {
   "cell_type": "code",
   "execution_count": null,
   "id": "8f41c6e4",
   "metadata": {},
   "outputs": [],
   "source": []
  },
  {
   "cell_type": "code",
   "execution_count": null,
   "id": "a720515b",
   "metadata": {},
   "outputs": [],
   "source": []
  },
  {
   "cell_type": "code",
   "execution_count": null,
   "id": "0ed1607d",
   "metadata": {},
   "outputs": [],
   "source": []
  }
 ],
 "metadata": {
  "kernelspec": {
   "display_name": "Python 3 (ipykernel)",
   "language": "python",
   "name": "python3"
  },
  "language_info": {
   "codemirror_mode": {
    "name": "ipython",
    "version": 3
   },
   "file_extension": ".py",
   "mimetype": "text/x-python",
   "name": "python",
   "nbconvert_exporter": "python",
   "pygments_lexer": "ipython3",
   "version": "3.9.6"
  }
 },
 "nbformat": 4,
 "nbformat_minor": 5
}
