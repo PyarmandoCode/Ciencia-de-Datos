{
 "cells": [
  {
   "cell_type": "code",
   "execution_count": 1,
   "id": "a74fcd1e",
   "metadata": {},
   "outputs": [],
   "source": [
    "import csv\n",
    "def origen_datos():\n",
    "    #abierto el archivo\n",
    "    with open('productos.csv','r') as data:\n",
    "        csv_leer = csv.reader(data)\n",
    "        #todo convertir el objeto a una lista\n",
    "        lista_productos = list(csv_leer)\n",
    "        return lista_productos"
   ]
  },
  {
   "cell_type": "code",
   "execution_count": 2,
   "id": "8ce40715",
   "metadata": {},
   "outputs": [
    {
     "data": {
      "text/plain": [
       "[['id', 'nombre', 'precio', 'estado', 'stock', 'area'],\n",
       " ['1', 'LAPTOP', '2500', '1', '1', 'almacen1'],\n",
       " ['2', 'IMPRESORA', '300', '1', '17', 'almacen2'],\n",
       " ['3', 'CPU', '800', '1', '0', 'almacen3'],\n",
       " ['4', 'MONITOR', '200', '1', '19', 'almacen1'],\n",
       " ['5', 'MOUSE', '15', '1', '2', 'almacen2'],\n",
       " ['6', 'TECLADO', '17', '1', '100', 'almacen6']]"
      ]
     },
     "execution_count": 2,
     "metadata": {},
     "output_type": "execute_result"
    }
   ],
   "source": [
    "origen_datos()"
   ]
  },
  {
   "cell_type": "code",
   "execution_count": null,
   "id": "891763e6",
   "metadata": {},
   "outputs": [],
   "source": [
    "#todo explorar los productos de un almacen en especifo"
   ]
  },
  {
   "cell_type": "code",
   "execution_count": null,
   "id": "ca652b13",
   "metadata": {},
   "outputs": [],
   "source": [
    "def productos_almacen(origen,almacen):\n",
    "    productos_filtrados=[]\n",
    "    for id,nombre,precio,estado,stock,area in origen:\n",
    "        if area == almacen:\n",
    "            productos_filtrados.append((nombre,stock))\n",
    "    return productos_filtrados        "
   ]
  },
  {
   "cell_type": "code",
   "execution_count": null,
   "id": "08ef843d",
   "metadata": {},
   "outputs": [],
   "source": [
    "almacen=input(\"Ingrese el Almacen a Filtrar:\")\n",
    "almacen_base=productos_almacen(origen_datos(),almacen)\n",
    "almacen_base"
   ]
  },
  {
   "cell_type": "code",
   "execution_count": 9,
   "id": "fb9ed7db",
   "metadata": {},
   "outputs": [],
   "source": [
    "def listar_recargar_stock(origen):\n",
    "    productos_bajo_stock=[]\n",
    "    productos_bajo_stock_dic = {}\n",
    "    valor=2\n",
    "    stocki=0\n",
    "    for id,nombre,precio,estado,stock,area in origen:\n",
    "        if stock.isdigit():\n",
    "            #stocki = int(stock)\n",
    "            if int(stock) >= 2:\n",
    "                productos_bajo_stock.append((id,nombre,stock))\n",
    "                productos_bajo_stock_dic[nombre]=stock\n",
    "    return productos_bajo_stock        "
   ]
  },
  {
   "cell_type": "code",
   "execution_count": null,
   "id": "fe31af21",
   "metadata": {},
   "outputs": [],
   "source": []
  },
  {
   "cell_type": "code",
   "execution_count": 10,
   "id": "1b413dc5",
   "metadata": {},
   "outputs": [
    {
     "data": {
      "text/plain": [
       "[('2', 'IMPRESORA', '17'),\n",
       " ('4', 'MONITOR', '19'),\n",
       " ('5', 'MOUSE', '2'),\n",
       " ('6', 'TECLADO', '100')]"
      ]
     },
     "execution_count": 10,
     "metadata": {},
     "output_type": "execute_result"
    }
   ],
   "source": [
    "listar_recargar_stock(origen_datos())"
   ]
  },
  {
   "cell_type": "code",
   "execution_count": null,
   "id": "f34d8435",
   "metadata": {},
   "outputs": [],
   "source": [
    "import pandas as pd # Importar la libreria de PANDAS\n"
   ]
  },
  {
   "cell_type": "code",
   "execution_count": null,
   "id": "1495e136",
   "metadata": {},
   "outputs": [],
   "source": [
    "df_vic=pd.read_csv('denuncias-victimas-pgj.csv') #todo leer el archivo en formato csv\n",
    "df_vic"
   ]
  },
  {
   "cell_type": "code",
   "execution_count": null,
   "id": "e01c37cf",
   "metadata": {},
   "outputs": [],
   "source": [
    "df_vic.columns # todo me devuelve el numero de columnas de mi DF\n",
    "df_vic.describe()"
   ]
  },
  {
   "cell_type": "code",
   "execution_count": null,
   "id": "a399c441",
   "metadata": {},
   "outputs": [],
   "source": [
    "df_vic.head(10) # Muestra filas\n",
    "df_vic.tail(10) # Muestra las filas en formato descendente\n",
    "df_vic['categoria'] #Mostrar solo una columna\n",
    "df_vic['sexo'] \n",
    "df_vic[['categoria','sexo','tipopersona']] #Mostrar mas de una columna"
   ]
  },
  {
   "cell_type": "code",
   "execution_count": null,
   "id": "e1d4457f",
   "metadata": {},
   "outputs": [],
   "source": [
    "df_vic.loc[9] #me permite mostrar el numero de fila o indice indicado\n",
    "df_vic.loc[[9,12,18,15890]]"
   ]
  },
  {
   "cell_type": "code",
   "execution_count": null,
   "id": "f14e8e23",
   "metadata": {},
   "outputs": [],
   "source": [
    "df_vic.loc[[9,12,18,15890],['categoria','sexo']] #combinando filas y columnas"
   ]
  },
  {
   "cell_type": "code",
   "execution_count": null,
   "id": "6703c72a",
   "metadata": {},
   "outputs": [],
   "source": [
    "df_vic['sexo'] == 'Femenino' #filtrado por un sexo especifico"
   ]
  },
  {
   "cell_type": "code",
   "execution_count": null,
   "id": "f197614c",
   "metadata": {},
   "outputs": [],
   "source": [
    "df_vic.loc[df_vic['sexo'] == 'Femenino'].head(10) #filtrando y localizando por un sexo especifico"
   ]
  },
  {
   "cell_type": "code",
   "execution_count": null,
   "id": "92c26c1a",
   "metadata": {},
   "outputs": [],
   "source": [
    "df_vic[df_vic['sexo'].isna()] # filta la informacion que no tiene contenido por un campo en comun"
   ]
  },
  {
   "cell_type": "code",
   "execution_count": null,
   "id": "19c8159a",
   "metadata": {},
   "outputs": [],
   "source": [
    "df_vic[df_vic['edad']<18] #personas o victimas menores de edad"
   ]
  },
  {
   "cell_type": "code",
   "execution_count": null,
   "id": "eb339c14",
   "metadata": {},
   "outputs": [],
   "source": [
    "delitos_alto_impacto=['HOMICIDIO DOLOSO','VIOLACIÓN','SECUESTRO','DELITO DE BAJO IMPACTO','HOMICIDIO DOLOSO']\n",
    "delitos_alto_impacto"
   ]
  },
  {
   "cell_type": "code",
   "execution_count": null,
   "id": "18d70ba6",
   "metadata": {},
   "outputs": [],
   "source": [
    "df_vic[df_vic['categoria'].isin(delitos_alto_impacto) ] #filtrar datos desde una lista como origen"
   ]
  },
  {
   "cell_type": "markdown",
   "id": "336ec4d2",
   "metadata": {},
   "source": [
    "### Se  pueden utillizar para unir varias condiciones logicas al mismo tiiempo\n",
    "- & se cumplen ambas condiciones\n",
    "- | se cumple al menos una condicion\n",
    "- ~ negacion\n"
   ]
  },
  {
   "cell_type": "code",
   "execution_count": null,
   "id": "ccd2d4f2",
   "metadata": {},
   "outputs": [],
   "source": [
    "df_vic.loc[ (df_vic['sexo'] == 'Femenino') & (df_vic['edad']<18)] # unir dos condiciones logicas"
   ]
  },
  {
   "cell_type": "code",
   "execution_count": null,
   "id": "03eb5f1d",
   "metadata": {},
   "outputs": [],
   "source": [
    "df_vic['sexo'].sort_values() # ordenar columnas de un dataframe\n",
    "df_vic['sexo'].sort_values(ascending=False)\n",
    "df_vic.sort_values(['sexo','edad'],ascending=[True,False])"
   ]
  },
  {
   "cell_type": "code",
   "execution_count": null,
   "id": "79cb206f",
   "metadata": {},
   "outputs": [],
   "source": [
    "df_vic['categoria'].unique() #Mustra filas unicas"
   ]
  },
  {
   "cell_type": "code",
   "execution_count": null,
   "id": "a2f7579b",
   "metadata": {},
   "outputs": [],
   "source": [
    "df_vic['sexo'].value_counts() #contabiliza por una columna en especifico"
   ]
  },
  {
   "cell_type": "code",
   "execution_count": null,
   "id": "4def7cef",
   "metadata": {},
   "outputs": [],
   "source": [
    "df_vic['sexo'].value_counts(dropna=False) #el argumento dropna me permite contar NAN"
   ]
  },
  {
   "cell_type": "code",
   "execution_count": null,
   "id": "c17eb2cf",
   "metadata": {},
   "outputs": [],
   "source": [
    "df_vic['categoria'].value_counts()[0:5] #permite sleccionar las cicno categiras con ms victimas\n",
    "df_vic['categoria'].value_counts().head(5)"
   ]
  }
 ],
 "metadata": {
  "kernelspec": {
   "display_name": "Python 3 (ipykernel)",
   "language": "python",
   "name": "python3"
  },
  "language_info": {
   "codemirror_mode": {
    "name": "ipython",
    "version": 3
   },
   "file_extension": ".py",
   "mimetype": "text/x-python",
   "name": "python",
   "nbconvert_exporter": "python",
   "pygments_lexer": "ipython3",
   "version": "3.9.6"
  }
 },
 "nbformat": 4,
 "nbformat_minor": 5
}
